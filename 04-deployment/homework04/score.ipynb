{
 "cells": [
  {
   "cell_type": "code",
   "execution_count": 1,
   "id": "08393f14",
   "metadata": {},
   "outputs": [
    {
     "name": "stdout",
     "output_type": "stream",
     "text": [
      "Python 3.9.0\n"
     ]
    }
   ],
   "source": [
    "!python -V"
   ]
  },
  {
   "cell_type": "code",
   "execution_count": 2,
   "id": "d5cb4127",
   "metadata": {},
   "outputs": [
    {
     "name": "stdout",
     "output_type": "stream",
     "text": [
      "scikit-learn @ file:///croot/scikit-learn_1714164736727/work\n",
      "scikit-learn-intelex==20230426.111118\n"
     ]
    }
   ],
   "source": [
    "!pip freeze | grep scikit-learn"
   ]
  },
  {
   "cell_type": "code",
   "execution_count": 8,
   "id": "98c0334e",
   "metadata": {},
   "outputs": [],
   "source": [
    "import os\n",
    "import uuid\n",
    "import pickle\n",
    "\n",
    "import pandas as pd\n",
    "\n",
    "\n",
    "from sklearn.feature_extraction import DictVectorizer\n",
    "from sklearn.ensemble import RandomForestRegressor\n",
    "from sklearn.metrics import mean_squared_error\n",
    "from sklearn.pipeline import make_pipeline"
   ]
  },
  {
   "cell_type": "code",
   "execution_count": 9,
   "id": "c0236b39",
   "metadata": {},
   "outputs": [],
   "source": [
    "year = 2023\n",
    "month = 3\n",
    "taxi_type = 'yellow'\n",
    "\n",
    "input_file = f'https://d37ci6vzurychx.cloudfront.net/trip-data/{taxi_type}_tripdata_{year:04d}-{month:02d}.parquet'\n",
    "#output_file = f'output/{taxi_type}/{year:04d}-{month:02d}.parquet'\n",
    "output_file = f'{year:04d}-{month:02d}.parquet'\n",
    "\n",
    "model_path = 'model.bin'\n",
    "#RUN_ID = os.getenv('RUN_ID', 'e1efc53e9bd149078b0c12aeaa6365df')"
   ]
  },
  {
   "cell_type": "code",
   "execution_count": 10,
   "id": "2d51b7c1",
   "metadata": {},
   "outputs": [],
   "source": [
    "def read_dataframe(filename: str, year, month):\n",
    "    df = pd.read_parquet(filename)\n",
    "\n",
    "    df['duration'] = df.tpep_dropoff_datetime - df.tpep_pickup_datetime\n",
    "    df.duration = df.duration.dt.total_seconds() / 60\n",
    "    df = df[(df.duration >= 1) & (df.duration <= 60)]\n",
    "    \n",
    "    df['ride_id'] = f'{year:04d}/{month:02d}_' + df.index.astype('str')\n",
    "\n",
    "    return df\n",
    "\n",
    "\n",
    "def prepare_dictionaries(df: pd.DataFrame):\n",
    "    categorical = ['PULocationID', 'DOLocationID']\n",
    "    df[categorical] = df[categorical].astype(str)\n",
    "    \n",
    "    #df['PU_DO'] = df['PULocationID'] + '_' + df['DOLocationID']\n",
    "\n",
    "    #categorical = ['PU_DO']\n",
    "    #numerical = ['trip_distance']\n",
    "    #dicts = df[categorical + numerical].to_dict(orient='records')\n",
    "    dicts = df[categorical].to_dict(orient='records')\n",
    "    return dicts"
   ]
  },
  {
   "cell_type": "code",
   "execution_count": 15,
   "id": "0bb2748a",
   "metadata": {},
   "outputs": [],
   "source": [
    "def load_model(model_path):\n",
    "    #logged_model = RUN_ID\n",
    "    #model = mlflow.pyfunc.load_model(logged_model)\n",
    "    with open(model_path, 'rb') as f_in:\n",
    "        dv,model = pickle.load(f_in)\n",
    "    return dv, model\n",
    "\n",
    "\n",
    "def apply_model(input_file, model_path, output_file):\n",
    "\n",
    "    df = read_dataframe(input_file, year, month)\n",
    "    dicts = prepare_dictionaries(df)\n",
    "\n",
    "    \n",
    "    dv, model = load_model(model_path)\n",
    "    X_val = dv.transform(dicts)\n",
    "    y_pred = model.predict(X_val)\n",
    "    #y_pred = model.predict(dicts)\n",
    "\n",
    "    df_result = pd.DataFrame()\n",
    "    df_result['ride_id'] = df['ride_id']\n",
    "    #df_result['tpep_pickup_datetime'] = df['tpep_pickup_datetime']\n",
    "    #df_result['PULocationID'] = df['PULocationID']\n",
    "    #df_result['DOLocationID'] = df['DOLocationID']\n",
    "    #df_result['actual_duration'] = df['duration']\n",
    "    df_result['predicted_duration'] = y_pred\n",
    "    #df_result['diff'] = df_result['actual_duration'] - df_result['predicted_duration']\n",
    "    #df_result['model_version'] = run_id\n",
    "    \n",
    "    df_result.to_parquet(output_file , engine='pyarrow', compression=None, index=False)\n",
    "    print(f\"Predicted mean duration {y_pred.mean()}\")"
   ]
  },
  {
   "cell_type": "code",
   "execution_count": 16,
   "id": "6dd24095",
   "metadata": {},
   "outputs": [
    {
     "name": "stderr",
     "output_type": "stream",
     "text": [
      "/home/ubuntu/anaconda3/lib/python3.9/site-packages/sklearn/base.py:376: InconsistentVersionWarning: Trying to unpickle estimator DictVectorizer from version 1.5.0 when using version 1.4.2. This might lead to breaking code or invalid results. Use at your own risk. For more info please refer to:\n",
      "https://scikit-learn.org/stable/model_persistence.html#security-maintainability-limitations\n",
      "  warnings.warn(\n",
      "/home/ubuntu/anaconda3/lib/python3.9/site-packages/sklearn/base.py:376: InconsistentVersionWarning: Trying to unpickle estimator LinearRegression from version 1.5.0 when using version 1.4.2. This might lead to breaking code or invalid results. Use at your own risk. For more info please refer to:\n",
      "https://scikit-learn.org/stable/model_persistence.html#security-maintainability-limitations\n",
      "  warnings.warn(\n"
     ]
    }
   ],
   "source": [
    "apply_model(input_file=input_file, model_path=model_path, output_file=output_file)"
   ]
  },
  {
   "cell_type": "code",
   "execution_count": 17,
   "id": "0a7f1d75",
   "metadata": {},
   "outputs": [
    {
     "name": "stdout",
     "output_type": "stream",
     "text": [
      "2023-03.parquet  Pipfile  Pipfile.lock\tmodel.bin  score.ipynb\tstarter.ipynb\n"
     ]
    }
   ],
   "source": [
    "!ls "
   ]
  },
  {
   "cell_type": "code",
   "execution_count": 18,
   "id": "a64eec52",
   "metadata": {},
   "outputs": [
    {
     "name": "stdout",
     "output_type": "stream",
     "text": [
      "-rw-rw-r-- 1 ubuntu ubuntu 66M Jun 26 06:21 2023-03.parquet\n"
     ]
    }
   ],
   "source": [
    "!ls -hl 2023-03.parquet"
   ]
  },
  {
   "cell_type": "code",
   "execution_count": null,
   "id": "7cb93575",
   "metadata": {},
   "outputs": [],
   "source": [
    "def run():\n",
    "    year = 2021\n",
    "    month = 3\n",
    "    #year = int(sys.argv[1]) # 2021\n",
    "    #month = int(sys.argv[2]) # 3\n",
    "\n",
    "    #RUN_ID = '54c0663c677e417f8900b51ed7985878'\n",
    "    #run_id = sys.argv[3] \n",
    "\n",
    "    #input_file = '../../data/green_tripdata_2021-01.parquet'\n",
    "    taxi_type = 'yellow'\n",
    "\n",
    "    input_file = f'https://d37ci6vzurychx.cloudfront.net/trip-data/{taxi_type}_tripdata_{year:04d}-{month:02d}.parquet'\n",
    "    output_file = f'output/{taxi_type}/{year:04d}-{month:02d}.parquet'\n",
    "\n",
    "    model_path = 'model.bin'\n",
    "    #input_file = f'https://s3.amazonaws.com/nyc-tlc/trip+data/green_tripdata_{year:04}-{month:02d}.parquet'\n",
    "    #output_file = f'../../output/green_tripdata_{year:04}-{month:02d}.parquet'\n",
    "\n",
    "\n",
    "    apply_model(input_file=input_file, model_path =model_path, output_file=output_file)\n",
    "\n",
    "if __name__ == '__main__':\n",
    "    run()"
   ]
  }
 ],
 "metadata": {
  "kernelspec": {
   "display_name": "Python 3 (ipykernel)",
   "language": "python",
   "name": "python3"
  },
  "language_info": {
   "codemirror_mode": {
    "name": "ipython",
    "version": 3
   },
   "file_extension": ".py",
   "mimetype": "text/x-python",
   "name": "python",
   "nbconvert_exporter": "python",
   "pygments_lexer": "ipython3",
   "version": "3.9.0"
  }
 },
 "nbformat": 4,
 "nbformat_minor": 5
}
