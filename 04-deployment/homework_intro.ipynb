{
 "cells": [
  {
   "cell_type": "code",
   "execution_count": null,
   "id": "358bc3bb-0954-43b7-8f64-0b4b30cbc36c",
   "metadata": {},
   "outputs": [
    {
     "name": "stdout",
     "output_type": "stream",
     "text": [
      "Python 3.11.7\n"
     ]
    }
   ],
   "source": [
    "!python -V"
   ]
  },
  {
   "cell_type": "code",
   "execution_count": 1,
   "id": "43122229",
   "metadata": {},
   "outputs": [],
   "source": [
    "from sklearn.feature_extraction import DictVectorizer\n",
    "from sklearn.linear_model import LinearRegression\n",
    "from sklearn.linear_model import Lasso\n",
    "from sklearn.linear_model import Ridge\n",
    "\n",
    "from sklearn.metrics import mean_squared_error\n",
    "\n",
    "import seaborn as sns\n",
    "import matplotlib.pyplot as plt\n",
    "\n",
    "import pickle\n",
    "import pandas as pd"
   ]
  },
  {
   "cell_type": "markdown",
   "id": "46d48b48-eb4a-422b-8445-61a478573cc4",
   "metadata": {},
   "source": [
    "#### Q1. Downloading the data\n",
    "\n",
    "We'll use the same NYC taxi dataset, but instead of \"Green Taxi Trip Records\", we'll use \"Yellow Taxi Trip Records\".\n",
    "\n",
    "Download the data for January and February 2023.\n",
    "\n",
    "Read the data for January. How many columns are there?\n",
    "\n",
    "16\n",
    "17\n",
    "18\n",
    "19"
   ]
  },
  {
   "cell_type": "markdown",
   "id": "2bbe0d08-757a-4895-ab47-eef40b2745b0",
   "metadata": {},
   "source": [
    "Download source data "
   ]
  },
  {
   "cell_type": "code",
   "execution_count": 2,
   "id": "dc0a916e-2448-4772-aea1-8d3c1a0bc423",
   "metadata": {},
   "outputs": [],
   "source": [
    "# !wget https://d37ci6vzurychx.cloudfront.net/trip-data/yellow_tripdata_2023-01.parquet\n",
    "# !wget https://d37ci6vzurychx.cloudfront.net/trip-data/yellow_tripdata_2023-02.parquet"
   ]
  },
  {
   "cell_type": "code",
   "execution_count": 3,
   "id": "d9be9931-091a-47b6-8d82-96e7e7b08655",
   "metadata": {},
   "outputs": [],
   "source": [
    "# Read data from jan dataset and find numbers of column\n",
    "import pandas as pd\n",
    "df = pd.read_parquet(\"yellow_tripdata_2023-01.parquet\")"
   ]
  },
  {
   "cell_type": "code",
   "execution_count": 4,
   "id": "e908c805-a73b-4c3a-a371-e8490d816d09",
   "metadata": {},
   "outputs": [
    {
     "name": "stdout",
     "output_type": "stream",
     "text": [
      "<class 'pandas.core.frame.DataFrame'>\n",
      "RangeIndex: 3066766 entries, 0 to 3066765\n",
      "Data columns (total 19 columns):\n",
      " #   Column                 Dtype         \n",
      "---  ------                 -----         \n",
      " 0   VendorID               int64         \n",
      " 1   tpep_pickup_datetime   datetime64[us]\n",
      " 2   tpep_dropoff_datetime  datetime64[us]\n",
      " 3   passenger_count        float64       \n",
      " 4   trip_distance          float64       \n",
      " 5   RatecodeID             float64       \n",
      " 6   store_and_fwd_flag     object        \n",
      " 7   PULocationID           int64         \n",
      " 8   DOLocationID           int64         \n",
      " 9   payment_type           int64         \n",
      " 10  fare_amount            float64       \n",
      " 11  extra                  float64       \n",
      " 12  mta_tax                float64       \n",
      " 13  tip_amount             float64       \n",
      " 14  tolls_amount           float64       \n",
      " 15  improvement_surcharge  float64       \n",
      " 16  total_amount           float64       \n",
      " 17  congestion_surcharge   float64       \n",
      " 18  airport_fee            float64       \n",
      "dtypes: datetime64[us](2), float64(12), int64(4), object(1)\n",
      "memory usage: 444.6+ MB\n"
     ]
    }
   ],
   "source": [
    "df.info()"
   ]
  },
  {
   "cell_type": "code",
   "execution_count": 5,
   "id": "16fea785-dbc0-45be-a0a5-eaa252976a0a",
   "metadata": {},
   "outputs": [
    {
     "data": {
      "text/plain": [
       "Index(['VendorID', 'tpep_pickup_datetime', 'tpep_dropoff_datetime',\n",
       "       'passenger_count', 'trip_distance', 'RatecodeID', 'store_and_fwd_flag',\n",
       "       'PULocationID', 'DOLocationID', 'payment_type', 'fare_amount', 'extra',\n",
       "       'mta_tax', 'tip_amount', 'tolls_amount', 'improvement_surcharge',\n",
       "       'total_amount', 'congestion_surcharge', 'airport_fee'],\n",
       "      dtype='object')"
      ]
     },
     "execution_count": 5,
     "metadata": {},
     "output_type": "execute_result"
    }
   ],
   "source": [
    "df.columns"
   ]
  },
  {
   "cell_type": "markdown",
   "id": "b1bca130-221a-4694-960c-4850e2ec48e4",
   "metadata": {},
   "source": [
    "#### Answer: 18"
   ]
  },
  {
   "cell_type": "markdown",
   "id": "88ad4c59-c1d0-4430-9eb3-b6ee9b672aa3",
   "metadata": {},
   "source": [
    "#### Q2. Computing duration\n",
    "\n",
    "Now let's compute the duration variable. It should contain the duration of a ride in minutes.\n",
    "\n",
    "What's the standard deviation of the trips duration in January?\n",
    "\n",
    "32.59\n",
    "42.59\n",
    "52.59\n",
    "62.59"
   ]
  },
  {
   "cell_type": "code",
   "execution_count": 6,
   "id": "e1189fd3-5d08-4239-902f-b3ecc5b53539",
   "metadata": {},
   "outputs": [],
   "source": [
    "\n",
    "df['duration'] = df.tpep_dropoff_datetime - df.tpep_pickup_datetime\n",
    "df.duration = df.duration.apply(lambda td: td.total_seconds() / 60)\n",
    "df.duration = df.duration.round(2)"
   ]
  },
  {
   "cell_type": "code",
   "execution_count": 7,
   "id": "11b65dc3-1a23-45d0-a719-c26f642a48dd",
   "metadata": {},
   "outputs": [
    {
     "data": {
      "text/plain": [
       "42.59435317924198"
      ]
     },
     "execution_count": 7,
     "metadata": {},
     "output_type": "execute_result"
    }
   ],
   "source": [
    "df['duration'].std()"
   ]
  },
  {
   "cell_type": "markdown",
   "id": "d5fce222-b4c4-47e8-bb82-57e989b500a0",
   "metadata": {},
   "source": [
    "#### Ans : 42.59"
   ]
  },
  {
   "cell_type": "markdown",
   "id": "78b9cbe1-3898-4378-9535-7c30f2c90d99",
   "metadata": {},
   "source": [
    "#### Q3. Dropping outliers\n",
    "\n",
    "Next, we need to check the distribution of the duration variable. There are some outliers. Let's remove them and keep only the records where the duration was between 1 and 60 minutes (inclusive).\n",
    "\n",
    "What fraction of the records left after you dropped the outliers?\n",
    "\n",
    "90%\n",
    "92%\n",
    "95%\n",
    "98%"
   ]
  },
  {
   "cell_type": "code",
   "execution_count": 8,
   "id": "f078ba70-1abc-4a3b-b223-928ed78eaebe",
   "metadata": {},
   "outputs": [
    {
     "data": {
      "text/plain": [
       "count    3.066766e+06\n",
       "mean     1.566899e+01\n",
       "std      4.259435e+01\n",
       "min     -2.920000e+01\n",
       "25%      7.120000e+00\n",
       "50%      1.152000e+01\n",
       "75%      1.830000e+01\n",
       "max      1.002918e+04\n",
       "Name: duration, dtype: float64"
      ]
     },
     "execution_count": 8,
     "metadata": {},
     "output_type": "execute_result"
    }
   ],
   "source": [
    "# duration to be between 1 min to 60 min  i.e 60 sec - 3600 sec\n",
    "df['duration'].describe()\n",
    "\n"
   ]
  },
  {
   "cell_type": "code",
   "execution_count": 9,
   "id": "fe3f665a-cd5d-42bb-86df-a9f35ec65c2d",
   "metadata": {},
   "outputs": [],
   "source": [
    "cleandf = df[(df['duration'] >= 1) & (df['duration'] <= 60)].reset_index(drop=True)"
   ]
  },
  {
   "cell_type": "code",
   "execution_count": 10,
   "id": "4855206e-0588-4840-8279-5508c26abbf4",
   "metadata": {},
   "outputs": [
    {
     "data": {
      "text/plain": [
       "count    3.009173e+06\n",
       "mean     1.420486e+01\n",
       "std      9.939385e+00\n",
       "min      1.000000e+00\n",
       "25%      7.220000e+00\n",
       "50%      1.155000e+01\n",
       "75%      1.818000e+01\n",
       "max      6.000000e+01\n",
       "Name: duration, dtype: float64"
      ]
     },
     "execution_count": 10,
     "metadata": {},
     "output_type": "execute_result"
    }
   ],
   "source": [
    "cleandf.duration.describe()"
   ]
  },
  {
   "cell_type": "code",
   "execution_count": 13,
   "id": "7b438e41-8dd7-4582-811c-bb1f671958c3",
   "metadata": {},
   "outputs": [
    {
     "name": "stdout",
     "output_type": "stream",
     "text": [
      "Percentage of data points remaining after dropping outlier records: 98.12202760889733\n"
     ]
    }
   ],
   "source": [
    "print(f\"Percentage of data points remaining after dropping outlier records: {3009172/3066765 * 100 }\")"
   ]
  },
  {
   "cell_type": "markdown",
   "id": "c9f9a83c",
   "metadata": {},
   "source": [
    "#### Answer : 98%"
   ]
  },
  {
   "cell_type": "markdown",
   "id": "3c0a136b-9f3b-40f1-8a28-ab0d0b273752",
   "metadata": {},
   "source": [
    "#### Q4. One-hot encoding\n",
    "\n",
    "Let's apply one-hot encoding to the pickup and dropoff location IDs. We'll use only these two features for our model.\n",
    "\n",
    "Turn the dataframe into a list of dictionaries (remember to re-cast the ids to strings - otherwise it will label encode them) Fit a dictionary vectorizer Get a feature matrix from it What's the dimensionality of this matrix (number of columns)?"
   ]
  },
  {
   "cell_type": "code",
   "execution_count": 15,
   "id": "c80d4d59-bf6a-483b-aaa1-123dbb030546",
   "metadata": {},
   "outputs": [
    {
     "data": {
      "text/plain": [
       "515"
      ]
     },
     "execution_count": 15,
     "metadata": {},
     "output_type": "execute_result"
    }
   ],
   "source": [
    "cleandf.VendorID = cleandf.VendorID.astype(str)\n",
    "cleandf.RatecodeID = cleandf.RatecodeID.astype(str)\n",
    "cleandf.PULocationID = cleandf.PULocationID.astype(str)\n",
    "cleandf.DOLocationID = cleandf.DOLocationID.astype(str)\n",
    "location_col = ['PULocationID', 'DOLocationID']\n",
    "train_dicts = cleandf[location_col].to_dict(orient='records')\n",
    "\n",
    "dv = DictVectorizer()\n",
    "X_train = dv.fit_transform(train_dicts)\n",
    "X_train.shape[1]"
   ]
  },
  {
   "cell_type": "markdown",
   "id": "28af788d",
   "metadata": {},
   "source": [
    "#### Answer : 515"
   ]
  },
  {
   "cell_type": "markdown",
   "id": "22f3625c",
   "metadata": {},
   "source": [
    "#### Q5. Training a model\n",
    "\n",
    "Now let's use the feature matrix from the previous step to train a model.\n",
    "\n",
    "Train a plain linear regression model with default parameters, where duration is the response variable\n",
    "Calculate the RMSE of the model on the training data\n",
    "What's the RMSE on train?\n",
    "\n",
    "3.64\n",
    "7.64\n",
    "11.64\n",
    "16.64"
   ]
  },
  {
   "cell_type": "code",
   "execution_count": 16,
   "id": "5280177e",
   "metadata": {},
   "outputs": [
    {
     "data": {
      "text/plain": [
       "7.649261603845807"
      ]
     },
     "execution_count": 16,
     "metadata": {},
     "output_type": "execute_result"
    }
   ],
   "source": [
    "target = 'duration'\n",
    "y_train = cleandf[target].values\n",
    "lr = LinearRegression()\n",
    "lr.fit(X_train, y_train)\n",
    "\n",
    "y_pred = lr.predict(X_train)\n",
    "\n",
    "mean_squared_error(y_train, y_pred, squared=False)"
   ]
  },
  {
   "cell_type": "markdown",
   "id": "f437e96d",
   "metadata": {},
   "source": [
    "#### Answer : 7.64"
   ]
  },
  {
   "cell_type": "markdown",
   "id": "b77ca541",
   "metadata": {},
   "source": [
    "#### Q6. Evaluating the model\n",
    "\n",
    "Now let's apply this model to the validation dataset (February 2023).\n",
    "\n",
    "What's the RMSE on validation?\n",
    "\n",
    "3.81\n",
    "7.81\n",
    "11.81\n",
    "16.81\n"
   ]
  },
  {
   "cell_type": "code",
   "execution_count": 21,
   "id": "85fade3d-fba2-4a79-9a44-f9b4d146f605",
   "metadata": {},
   "outputs": [],
   "source": [
    "# Read data from jan dataset and find numbers of column\n",
    "\n",
    "def train_pred(data, input_col = ['PULocationID', 'DOLocationID'] , target_col = 'duration'):\n",
    "    val_df = pd.read_parquet(data)\n",
    "    val_df['duration'] = val_df.tpep_dropoff_datetime - val_df.tpep_pickup_datetime\n",
    "    val_df.duration = val_df.duration.apply(lambda td: td.total_seconds() / 60)\n",
    "    val_df.duration = val_df.duration.round(2)\n",
    "    df_val_clean = val_df[(val_df['duration'] >= 1) & (val_df['duration'] <= 60)].reset_index(drop=True)\n",
    "    val_df = df_val_clean \n",
    "    val_df.PULocationID = val_df.PULocationID.astype(str)\n",
    "    val_df.DOLocationID = val_df.DOLocationID.astype(str)\n",
    "    location_col = ['PULocationID', 'DOLocationID']\n",
    "    val_dicts = val_df[input_col].to_dict(orient='records')\n",
    "    dv = DictVectorizer()\n",
    "    X_val = dv.fit_transform(val_dicts)\n",
    "    y_val = val_df[target_col].values\n",
    "    lr = LinearRegression()\n",
    "    lr.fit(X_val, y_val)\n",
    "\n",
    "    y_pred_val = lr.predict(X_val)\n",
    "    return mean_squared_error(y_val, y_pred_val, squared=False)"
   ]
  },
  {
   "cell_type": "code",
   "execution_count": 22,
   "id": "ad4d6faa",
   "metadata": {},
   "outputs": [
    {
     "data": {
      "text/plain": [
       "7.778951036153182"
      ]
     },
     "execution_count": 22,
     "metadata": {},
     "output_type": "execute_result"
    }
   ],
   "source": [
    "mse = train_pred(\"yellow_tripdata_2023-02.parquet\", input_col = ['PULocationID', 'DOLocationID'], target_col = 'duration')\n",
    "mse"
   ]
  },
  {
   "cell_type": "markdown",
   "id": "92cbb7f0",
   "metadata": {},
   "source": [
    "#### Answer: 7.81"
   ]
  },
  {
   "cell_type": "markdown",
   "id": "19832672",
   "metadata": {},
   "source": []
  }
 ],
 "metadata": {
  "kernelspec": {
   "display_name": "Python 3 (ipykernel)",
   "language": "python",
   "name": "python3"
  },
  "language_info": {
   "codemirror_mode": {
    "name": "ipython",
    "version": 3
   },
   "file_extension": ".py",
   "mimetype": "text/x-python",
   "name": "python",
   "nbconvert_exporter": "python",
   "pygments_lexer": "ipython3",
   "version": "3.11.7"
  }
 },
 "nbformat": 4,
 "nbformat_minor": 5
}
